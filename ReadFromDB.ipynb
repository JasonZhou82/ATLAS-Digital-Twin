{
 "cells": [
  {
   "cell_type": "code",
   "execution_count": 56,
   "id": "1c4fa49d",
   "metadata": {},
   "outputs": [],
   "source": [
    "import sqlite3\n",
    "\n",
    "def read_data_from_sqlite(db_file, query):\n",
    "    # Connect to the SQLite database\n",
    "    conn = sqlite3.connect(db_file)\n",
    "\n",
    "    # Create a cursor object to execute queries\n",
    "    cursor = conn.cursor()\n",
    "\n",
    "    # Execute the query\n",
    "    cursor.execute(query)\n",
    "\n",
    "    # Fetch all the results from the query\n",
    "    results = cursor.fetchall()\n",
    "\n",
    "    # Close the cursor and the connection\n",
    "    cursor.close()\n",
    "    conn.close()\n",
    "\n",
    "    return results\n",
    "\n",
    "# Example usage:\n",
    "database_file = \"geometry_atlas.db\"\n",
    "select_shape_query = \"SELECT * FROM Shapes\"\n",
    "\n",
    "\n",
    "# Call the function to read data from the SQLite file\n",
    "shape_data = read_data_from_sqlite(database_file, select_shape_query)\n",
    "\n",
    "# Print the retrieved data\n",
    "#for row in data:\n",
    " #   print(row)\n"
   ]
  },
  {
   "cell_type": "code",
   "execution_count": 57,
   "id": "0b6080a5",
   "metadata": {},
   "outputs": [
    {
     "name": "stdout",
     "output_type": "stream",
     "text": [
      "opA=8\n",
      "(8, 'Shift', 'A=7;X=4')\n",
      "(8, 'Shift', 'A=7;X=4') (10, 'Shift', 'A=9;X=5')\n"
     ]
    }
   ],
   "source": [
    "print(shape_data[10][2].split(\";\")[0])\n",
    "print(shape_data[7])\n",
    "exec(shape_data[10][2].split(\";\")[0])\n",
    "exec(shape_data[10][2].split(\";\")[1])\n",
    "print(shape_data[opA-1],shape_data[opB-1])\n"
   ]
  },
  {
   "cell_type": "code",
   "execution_count": 58,
   "id": "57900780",
   "metadata": {},
   "outputs": [
    {
     "name": "stdout",
     "output_type": "stream",
     "text": [
      "(33, 'Box', 'XHalfLength=0.0650000000000000;YHalfLength=4.3600000000000003;ZHalfLength=9.2349999999999994')\n"
     ]
    }
   ],
   "source": [
    "print(shape_data[32])"
   ]
  },
  {
   "cell_type": "code",
   "execution_count": 84,
   "id": "f38c9f64",
   "metadata": {},
   "outputs": [],
   "source": [
    "def Create_Single_Shape(Parameters):\n",
    "    if Parameters[1] == \"Tube\":\n",
    "        Create_Tube(Parameters)\n",
    "    elif Parameters[1] == \"Box\":\n",
    "        Create_Box(Parameters)\n",
    "    elif Parameters[1] == \"SimplePolygonBrep\":\n",
    "        Create_SimplePolygonBrep(Parameters)\n",
    "    elif Parameters[1] == \"Trap\":\n",
    "        Create_Trap(Parameters)\n",
    "    elif Parameters[1] == \"Tubs\":\n",
    "        Create_Tubs(Parameters)\n",
    "    elif Parameters[1] == \"Trd\":\n",
    "        Create_Trd(Parameters)\n",
    "    elif Parameters[1] == \"Pgon\":\n",
    "        Create_Pgon(Parameters)\n",
    "    elif Parameters[1] == \"Cons\":\n",
    "        Create_Cons(Parameters)\n",
    "    elif Parameters[1] == \"Para\":\n",
    "        Create_Para(Parameters)\n",
    "    elif Parameters[1] == \"Pcon\":\n",
    "        Create_Pcon(Parameters)\n",
    "    elif Parameters[1] == \"UnidentifiedShape\":\n",
    "        Create_UnidentifiedShape(Parameters)\n",
    "    else:\n",
    "        print(\"Error with creating Single Shape\")"
   ]
  },
  {
   "cell_type": "code",
   "execution_count": 85,
   "id": "49b15012",
   "metadata": {},
   "outputs": [],
   "source": [
    "def Create_Tube(Parameters):\n",
    "    return\n",
    "def Create_Box(Parameters):\n",
    "    return\n",
    "def Create_SimplePolygonBrep(Parameters):\n",
    "    return\n",
    "def Create_Trap(Parameters):\n",
    "    return\n",
    "def Create_Tubs(Parameters):\n",
    "    return\n",
    "    \n",
    "def Create_Trd(Parameters):\n",
    "    return\n",
    "    \n",
    "def Create_Pgon(Parameters):\n",
    "    return\n",
    "    \n",
    "def Create_Cons(Parameters):\n",
    "    return\n",
    "    \n",
    "def Create_Para(Parameters):\n",
    "    return\n",
    "    \n",
    "def Create_Pcon(Parameters):\n",
    "    return\n",
    "    \n",
    "def Create_UnidentifiedShape(Parameters):\n",
    "    return\n"
   ]
  },
  {
   "cell_type": "code",
   "execution_count": 89,
   "id": "07715242",
   "metadata": {},
   "outputs": [],
   "source": [
    "def Combine_Two_Shapes(Parameters,shape_data):\n",
    "    #print(Parameters[1]+ \" Two Shapes \" +Parameters[2].split(\";\")[0] + \" \"+Parameters[2].split(\";\")[1])\n",
    "    if Parameters[1] == \"Shift\":\n",
    "        Shift_Shape(Parameters,shape_data)\n",
    "    elif Parameters[1] ==\"Union\":\n",
    "        Union_Shape(Parameters,shape_data)\n",
    "    elif Parameters[1] ==\"Subtraction\":\n",
    "        Subtraction_Shape(Parameters,shape_data)\n",
    "    elif Parameters[1] ==\"Intersection\":\n",
    "        Intersection_Shape(Parameters,shape_data)\n",
    "    else:\n",
    "        print(\"Error with Combine two shapes\")"
   ]
  },
  {
   "cell_type": "code",
   "execution_count": 90,
   "id": "dc292490",
   "metadata": {},
   "outputs": [],
   "source": [
    "def Shift_Shape(Parameters,shape_data):\n",
    "    return\n",
    "def Union_Shape(Parameters,shape_data):\n",
    "    return\n",
    "def Subtraction_Shape(Parameters,shape_data):\n",
    "    return\n",
    "def Intersection_Shape(Parameters,shape_data):\n",
    "    return"
   ]
  },
  {
   "cell_type": "code",
   "execution_count": 91,
   "id": "0999821d",
   "metadata": {
    "scrolled": false
   },
   "outputs": [],
   "source": [
    "for row in data:\n",
    "    if row[1] in {\"Tube\",\"Box\",\"SimplePolygonBrep\",\"Trap\",\"Tubs\",\"Trd\",\"Pgon\",\"Cons\",\"Para\",\"Pcon\",\"UnidentifiedShape\"}:\n",
    "        Create_Single_Shape(row)\n",
    "    elif row[1] in {\"Shift\",\"Union\",\"Subtraction\",\"Intersection\"}:\n",
    "        Combine_Two_Shapes(row,shape_data)        \n",
    "    else:\n",
    "        print(\"Error with creating shape\")"
   ]
  },
  {
   "cell_type": "code",
   "execution_count": 51,
   "id": "09177cde",
   "metadata": {},
   "outputs": [
    {
     "data": {
      "text/plain": [
       "119487"
      ]
     },
     "execution_count": 51,
     "metadata": {},
     "output_type": "execute_result"
    }
   ],
   "source": [
    "len(shape_data)"
   ]
  },
  {
   "cell_type": "code",
   "execution_count": null,
   "id": "7bd2d90f",
   "metadata": {},
   "outputs": [],
   "source": []
  }
 ],
 "metadata": {
  "kernelspec": {
   "display_name": "Python 3 (ipykernel)",
   "language": "python",
   "name": "python3"
  },
  "language_info": {
   "codemirror_mode": {
    "name": "ipython",
    "version": 3
   },
   "file_extension": ".py",
   "mimetype": "text/x-python",
   "name": "python",
   "nbconvert_exporter": "python",
   "pygments_lexer": "ipython3",
   "version": "3.9.7"
  }
 },
 "nbformat": 4,
 "nbformat_minor": 5
}
